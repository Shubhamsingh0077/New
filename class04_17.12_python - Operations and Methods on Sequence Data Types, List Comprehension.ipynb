{
 "cells": [
  {
   "cell_type": "markdown",
   "id": "arbitrary-administration",
   "metadata": {},
   "source": [
    "## Operations on Strings"
   ]
  },
  {
   "cell_type": "code",
   "execution_count": 1,
   "id": "interior-halifax",
   "metadata": {},
   "outputs": [],
   "source": [
    "s1 = 'hello'\n",
    "s2 = 'world'"
   ]
  },
  {
   "cell_type": "code",
   "execution_count": 2,
   "id": "homeless-brunei",
   "metadata": {},
   "outputs": [
    {
     "data": {
      "text/plain": [
       "'helloworld'"
      ]
     },
     "execution_count": 2,
     "metadata": {},
     "output_type": "execute_result"
    }
   ],
   "source": [
    "s3 = s1 + s2      # Concatenation\n",
    "s3"
   ]
  },
  {
   "cell_type": "code",
   "execution_count": 3,
   "id": "closing-beatles",
   "metadata": {},
   "outputs": [
    {
     "data": {
      "text/plain": [
       "5"
      ]
     },
     "execution_count": 3,
     "metadata": {},
     "output_type": "execute_result"
    }
   ],
   "source": [
    "2 + 3         # Addition"
   ]
  },
  {
   "cell_type": "code",
   "execution_count": 4,
   "id": "satisfactory-antigua",
   "metadata": {},
   "outputs": [
    {
     "data": {
      "text/plain": [
       "'23'"
      ]
     },
     "execution_count": 4,
     "metadata": {},
     "output_type": "execute_result"
    }
   ],
   "source": [
    "'2' + '3'     # Concatenation"
   ]
  },
  {
   "cell_type": "code",
   "execution_count": 5,
   "id": "eligible-deposit",
   "metadata": {},
   "outputs": [],
   "source": [
    "### Operator Overloading"
   ]
  },
  {
   "cell_type": "code",
   "execution_count": 6,
   "id": "dominican-watch",
   "metadata": {},
   "outputs": [],
   "source": [
    "# Repetition"
   ]
  },
  {
   "cell_type": "code",
   "execution_count": 7,
   "id": "champion-journey",
   "metadata": {},
   "outputs": [
    {
     "data": {
      "text/plain": [
       "'hello'"
      ]
     },
     "execution_count": 7,
     "metadata": {},
     "output_type": "execute_result"
    }
   ],
   "source": [
    "s1"
   ]
  },
  {
   "cell_type": "code",
   "execution_count": 8,
   "id": "arranged-therapy",
   "metadata": {},
   "outputs": [
    {
     "data": {
      "text/plain": [
       "'hellohellohello'"
      ]
     },
     "execution_count": 8,
     "metadata": {},
     "output_type": "execute_result"
    }
   ],
   "source": [
    "s4 = s1 * 3\n",
    "s4"
   ]
  },
  {
   "cell_type": "code",
   "execution_count": 9,
   "id": "downtown-pregnancy",
   "metadata": {},
   "outputs": [],
   "source": [
    "s = 'hello'"
   ]
  },
  {
   "cell_type": "code",
   "execution_count": 10,
   "id": "foster-slave",
   "metadata": {},
   "outputs": [
    {
     "data": {
      "text/plain": [
       "'h'"
      ]
     },
     "execution_count": 10,
     "metadata": {},
     "output_type": "execute_result"
    }
   ],
   "source": [
    "s[0]      # Indexing"
   ]
  },
  {
   "cell_type": "code",
   "execution_count": 11,
   "id": "ideal-fabric",
   "metadata": {},
   "outputs": [
    {
     "data": {
      "text/plain": [
       "'e'"
      ]
     },
     "execution_count": 11,
     "metadata": {},
     "output_type": "execute_result"
    }
   ],
   "source": [
    "s[1]"
   ]
  },
  {
   "cell_type": "code",
   "execution_count": 12,
   "id": "tamil-threat",
   "metadata": {},
   "outputs": [
    {
     "data": {
      "text/plain": [
       "'l'"
      ]
     },
     "execution_count": 12,
     "metadata": {},
     "output_type": "execute_result"
    }
   ],
   "source": [
    "s[2]"
   ]
  },
  {
   "cell_type": "code",
   "execution_count": 13,
   "id": "necessary-midwest",
   "metadata": {},
   "outputs": [
    {
     "data": {
      "text/plain": [
       "'o'"
      ]
     },
     "execution_count": 13,
     "metadata": {},
     "output_type": "execute_result"
    }
   ],
   "source": [
    "s[-1]"
   ]
  },
  {
   "cell_type": "code",
   "execution_count": 14,
   "id": "distant-vehicle",
   "metadata": {},
   "outputs": [
    {
     "data": {
      "text/plain": [
       "'h'"
      ]
     },
     "execution_count": 14,
     "metadata": {},
     "output_type": "execute_result"
    }
   ],
   "source": [
    "s[-5]"
   ]
  },
  {
   "cell_type": "code",
   "execution_count": 15,
   "id": "neural-section",
   "metadata": {},
   "outputs": [],
   "source": [
    "# Slicing"
   ]
  },
  {
   "cell_type": "code",
   "execution_count": 16,
   "id": "anticipated-customer",
   "metadata": {},
   "outputs": [],
   "source": [
    "q = \"How are you?\""
   ]
  },
  {
   "cell_type": "code",
   "execution_count": 17,
   "id": "mounted-twins",
   "metadata": {},
   "outputs": [
    {
     "data": {
      "text/plain": [
       "'w are'"
      ]
     },
     "execution_count": 17,
     "metadata": {},
     "output_type": "execute_result"
    }
   ],
   "source": [
    "q[2:7]"
   ]
  },
  {
   "cell_type": "code",
   "execution_count": 20,
   "id": "neither-aluminum",
   "metadata": {},
   "outputs": [
    {
     "data": {
      "text/plain": [
       "'w are you'"
      ]
     },
     "execution_count": 20,
     "metadata": {},
     "output_type": "execute_result"
    }
   ],
   "source": [
    "q[2:11]"
   ]
  },
  {
   "cell_type": "code",
   "execution_count": 21,
   "id": "north-banana",
   "metadata": {},
   "outputs": [
    {
     "data": {
      "text/plain": [
       "'waeyu'"
      ]
     },
     "execution_count": 21,
     "metadata": {},
     "output_type": "execute_result"
    }
   ],
   "source": [
    "q[2:11:2]"
   ]
  },
  {
   "cell_type": "code",
   "execution_count": 22,
   "id": "unavailable-boulder",
   "metadata": {},
   "outputs": [
    {
     "data": {
      "text/plain": [
       "'w are you?'"
      ]
     },
     "execution_count": 22,
     "metadata": {},
     "output_type": "execute_result"
    }
   ],
   "source": [
    "q[2:20]"
   ]
  },
  {
   "cell_type": "code",
   "execution_count": 23,
   "id": "champion-battle",
   "metadata": {},
   "outputs": [
    {
     "data": {
      "text/plain": [
       "'?uoy era '"
      ]
     },
     "execution_count": 23,
     "metadata": {},
     "output_type": "execute_result"
    }
   ],
   "source": [
    "q[11:2:-1]"
   ]
  },
  {
   "cell_type": "code",
   "execution_count": 24,
   "id": "involved-dealer",
   "metadata": {},
   "outputs": [
    {
     "data": {
      "text/plain": [
       "'How are you?'"
      ]
     },
     "execution_count": 24,
     "metadata": {},
     "output_type": "execute_result"
    }
   ],
   "source": [
    "q"
   ]
  },
  {
   "cell_type": "code",
   "execution_count": 25,
   "id": "flexible-carroll",
   "metadata": {},
   "outputs": [
    {
     "data": {
      "text/plain": [
       "'How ar'"
      ]
     },
     "execution_count": 25,
     "metadata": {},
     "output_type": "execute_result"
    }
   ],
   "source": [
    "q[0:6]"
   ]
  },
  {
   "cell_type": "code",
   "execution_count": 26,
   "id": "weekly-dodge",
   "metadata": {},
   "outputs": [
    {
     "data": {
      "text/plain": [
       "'How ar'"
      ]
     },
     "execution_count": 26,
     "metadata": {},
     "output_type": "execute_result"
    }
   ],
   "source": [
    "q[:6]"
   ]
  },
  {
   "cell_type": "code",
   "execution_count": 27,
   "id": "consolidated-peace",
   "metadata": {},
   "outputs": [
    {
     "data": {
      "text/plain": [
       "'re you?'"
      ]
     },
     "execution_count": 27,
     "metadata": {},
     "output_type": "execute_result"
    }
   ],
   "source": [
    "q[5:12]"
   ]
  },
  {
   "cell_type": "code",
   "execution_count": 28,
   "id": "historic-fetish",
   "metadata": {},
   "outputs": [
    {
     "data": {
      "text/plain": [
       "'re you?'"
      ]
     },
     "execution_count": 28,
     "metadata": {},
     "output_type": "execute_result"
    }
   ],
   "source": [
    "q[5:]"
   ]
  },
  {
   "cell_type": "code",
   "execution_count": 29,
   "id": "heated-singapore",
   "metadata": {},
   "outputs": [
    {
     "data": {
      "text/plain": [
       "'How are you?'"
      ]
     },
     "execution_count": 29,
     "metadata": {},
     "output_type": "execute_result"
    }
   ],
   "source": [
    "q[:]"
   ]
  },
  {
   "cell_type": "code",
   "execution_count": 30,
   "id": "controlled-anchor",
   "metadata": {},
   "outputs": [
    {
     "data": {
      "text/plain": [
       "'Hwaeyu'"
      ]
     },
     "execution_count": 30,
     "metadata": {},
     "output_type": "execute_result"
    }
   ],
   "source": [
    "q[::2]"
   ]
  },
  {
   "cell_type": "code",
   "execution_count": 33,
   "id": "occupied-universe",
   "metadata": {},
   "outputs": [
    {
     "data": {
      "text/plain": [
       "'?uoy era woH'"
      ]
     },
     "execution_count": 33,
     "metadata": {},
     "output_type": "execute_result"
    }
   ],
   "source": [
    "q[::-1]"
   ]
  },
  {
   "cell_type": "code",
   "execution_count": 34,
   "id": "sustainable-evaluation",
   "metadata": {},
   "outputs": [
    {
     "data": {
      "text/plain": [
       "'hello'"
      ]
     },
     "execution_count": 34,
     "metadata": {},
     "output_type": "execute_result"
    }
   ],
   "source": [
    "s"
   ]
  },
  {
   "cell_type": "code",
   "execution_count": 35,
   "id": "checked-bangkok",
   "metadata": {},
   "outputs": [
    {
     "data": {
      "text/plain": [
       "5"
      ]
     },
     "execution_count": 35,
     "metadata": {},
     "output_type": "execute_result"
    }
   ],
   "source": [
    "len(s)"
   ]
  },
  {
   "cell_type": "code",
   "execution_count": 36,
   "id": "disturbed-jackson",
   "metadata": {},
   "outputs": [
    {
     "data": {
      "text/plain": [
       "'How are you?'"
      ]
     },
     "execution_count": 36,
     "metadata": {},
     "output_type": "execute_result"
    }
   ],
   "source": [
    "q"
   ]
  },
  {
   "cell_type": "code",
   "execution_count": 37,
   "id": "satisfactory-family",
   "metadata": {},
   "outputs": [
    {
     "data": {
      "text/plain": [
       "12"
      ]
     },
     "execution_count": 37,
     "metadata": {},
     "output_type": "execute_result"
    }
   ],
   "source": [
    "len(q)"
   ]
  },
  {
   "cell_type": "code",
   "execution_count": 38,
   "id": "controlling-inclusion",
   "metadata": {},
   "outputs": [
    {
     "data": {
      "text/plain": [
       "'How are you?'"
      ]
     },
     "execution_count": 38,
     "metadata": {},
     "output_type": "execute_result"
    }
   ],
   "source": [
    "q"
   ]
  },
  {
   "cell_type": "code",
   "execution_count": 40,
   "id": "confused-korean",
   "metadata": {},
   "outputs": [
    {
     "data": {
      "text/plain": [
       "10"
      ]
     },
     "execution_count": 40,
     "metadata": {},
     "output_type": "execute_result"
    }
   ],
   "source": [
    "count = 0\n",
    "for i in q:\n",
    "    if i != \" \":\n",
    "        count += 1\n",
    "count"
   ]
  },
  {
   "cell_type": "markdown",
   "id": "expanded-arbitration",
   "metadata": {},
   "source": [
    "## Methods on String"
   ]
  },
  {
   "cell_type": "code",
   "execution_count": 41,
   "id": "bored-tonight",
   "metadata": {},
   "outputs": [
    {
     "data": {
      "text/plain": [
       "'How are you?'"
      ]
     },
     "execution_count": 41,
     "metadata": {},
     "output_type": "execute_result"
    }
   ],
   "source": [
    "q"
   ]
  },
  {
   "cell_type": "code",
   "execution_count": 42,
   "id": "invisible-chest",
   "metadata": {},
   "outputs": [],
   "source": [
    "# find method gives the index value of first occurence of the subString that you want to find in the given string.\n",
    "# str.find(subString, startIndex* = 0, endIndex* = len(str))"
   ]
  },
  {
   "cell_type": "code",
   "execution_count": 43,
   "id": "english-statistics",
   "metadata": {},
   "outputs": [
    {
     "data": {
      "text/plain": [
       "4"
      ]
     },
     "execution_count": 43,
     "metadata": {},
     "output_type": "execute_result"
    }
   ],
   "source": [
    "q.find('are')"
   ]
  },
  {
   "cell_type": "code",
   "execution_count": 44,
   "id": "geographic-shell",
   "metadata": {},
   "outputs": [
    {
     "data": {
      "text/plain": [
       "1"
      ]
     },
     "execution_count": 44,
     "metadata": {},
     "output_type": "execute_result"
    }
   ],
   "source": [
    "q.find('o')"
   ]
  },
  {
   "cell_type": "code",
   "execution_count": 45,
   "id": "marked-quality",
   "metadata": {},
   "outputs": [
    {
     "data": {
      "text/plain": [
       "9"
      ]
     },
     "execution_count": 45,
     "metadata": {},
     "output_type": "execute_result"
    }
   ],
   "source": [
    "q.find('o', 3)"
   ]
  },
  {
   "cell_type": "code",
   "execution_count": 46,
   "id": "independent-brunswick",
   "metadata": {},
   "outputs": [
    {
     "data": {
      "text/plain": [
       "-1"
      ]
     },
     "execution_count": 46,
     "metadata": {},
     "output_type": "execute_result"
    }
   ],
   "source": [
    "q.find('z')"
   ]
  },
  {
   "cell_type": "code",
   "execution_count": 47,
   "id": "neutral-jason",
   "metadata": {},
   "outputs": [
    {
     "data": {
      "text/plain": [
       "-1"
      ]
     },
     "execution_count": 47,
     "metadata": {},
     "output_type": "execute_result"
    }
   ],
   "source": [
    "q.find('u', 0, 7)"
   ]
  },
  {
   "cell_type": "code",
   "execution_count": 48,
   "id": "distant-kazakhstan",
   "metadata": {},
   "outputs": [
    {
     "data": {
      "text/plain": [
       "'How are you?'"
      ]
     },
     "execution_count": 48,
     "metadata": {},
     "output_type": "execute_result"
    }
   ],
   "source": [
    "q"
   ]
  },
  {
   "cell_type": "code",
   "execution_count": 49,
   "id": "orange-therapist",
   "metadata": {},
   "outputs": [
    {
     "ename": "ValueError",
     "evalue": "substring not found",
     "output_type": "error",
     "traceback": [
      "\u001b[1;31m---------------------------------------------------------------------------\u001b[0m",
      "\u001b[1;31mValueError\u001b[0m                                Traceback (most recent call last)",
      "\u001b[1;32m<ipython-input-49-a0262ff8b298>\u001b[0m in \u001b[0;36m<module>\u001b[1;34m\u001b[0m\n\u001b[0;32m      1\u001b[0m \u001b[1;31m# index method\u001b[0m\u001b[1;33m\u001b[0m\u001b[1;33m\u001b[0m\u001b[1;33m\u001b[0m\u001b[0m\n\u001b[1;32m----> 2\u001b[1;33m \u001b[0mq\u001b[0m\u001b[1;33m.\u001b[0m\u001b[0mindex\u001b[0m\u001b[1;33m(\u001b[0m\u001b[1;34m'z'\u001b[0m\u001b[1;33m)\u001b[0m\u001b[1;33m\u001b[0m\u001b[1;33m\u001b[0m\u001b[0m\n\u001b[0m",
      "\u001b[1;31mValueError\u001b[0m: substring not found"
     ]
    }
   ],
   "source": [
    "# index method\n",
    "q.index('z')"
   ]
  },
  {
   "cell_type": "code",
   "execution_count": 50,
   "id": "massive-combining",
   "metadata": {},
   "outputs": [],
   "source": [
    "### count method count the occurence of a given subString in a string"
   ]
  },
  {
   "cell_type": "code",
   "execution_count": 51,
   "id": "amazing-calculator",
   "metadata": {},
   "outputs": [
    {
     "data": {
      "text/plain": [
       "'How are you?'"
      ]
     },
     "execution_count": 51,
     "metadata": {},
     "output_type": "execute_result"
    }
   ],
   "source": [
    "q"
   ]
  },
  {
   "cell_type": "code",
   "execution_count": 54,
   "id": "recent-camping",
   "metadata": {},
   "outputs": [
    {
     "data": {
      "text/plain": [
       "2"
      ]
     },
     "execution_count": 54,
     "metadata": {},
     "output_type": "execute_result"
    }
   ],
   "source": [
    "q.count('o')"
   ]
  },
  {
   "cell_type": "code",
   "execution_count": 55,
   "id": "possible-belfast",
   "metadata": {},
   "outputs": [
    {
     "data": {
      "text/plain": [
       "1"
      ]
     },
     "execution_count": 55,
     "metadata": {},
     "output_type": "execute_result"
    }
   ],
   "source": [
    "q.count('o', 0, 7)"
   ]
  },
  {
   "cell_type": "code",
   "execution_count": 56,
   "id": "unnecessary-tokyo",
   "metadata": {},
   "outputs": [],
   "source": [
    "### replace method\n",
    "# str.replace(oldString, newString, frequency* = all)"
   ]
  },
  {
   "cell_type": "code",
   "execution_count": 57,
   "id": "understanding-overhead",
   "metadata": {},
   "outputs": [
    {
     "data": {
      "text/plain": [
       "'How are you?'"
      ]
     },
     "execution_count": 57,
     "metadata": {},
     "output_type": "execute_result"
    }
   ],
   "source": [
    "q"
   ]
  },
  {
   "cell_type": "code",
   "execution_count": 60,
   "id": "front-picnic",
   "metadata": {},
   "outputs": [
    {
     "data": {
      "text/plain": [
       "'How is you?'"
      ]
     },
     "execution_count": 60,
     "metadata": {},
     "output_type": "execute_result"
    }
   ],
   "source": [
    "r = q.replace('are', 'is')\n",
    "r"
   ]
  },
  {
   "cell_type": "code",
   "execution_count": 61,
   "id": "cheap-joining",
   "metadata": {},
   "outputs": [
    {
     "data": {
      "text/plain": [
       "'How are you?'"
      ]
     },
     "execution_count": 61,
     "metadata": {},
     "output_type": "execute_result"
    }
   ],
   "source": [
    "q"
   ]
  },
  {
   "cell_type": "code",
   "execution_count": 63,
   "id": "recent-gossip",
   "metadata": {},
   "outputs": [
    {
     "data": {
      "text/plain": [
       "'Hmw are ymu?'"
      ]
     },
     "execution_count": 63,
     "metadata": {},
     "output_type": "execute_result"
    }
   ],
   "source": [
    "q.replace('o', 'm')"
   ]
  },
  {
   "cell_type": "code",
   "execution_count": 64,
   "id": "hollow-earthquake",
   "metadata": {},
   "outputs": [
    {
     "data": {
      "text/plain": [
       "'Hmw are you?'"
      ]
     },
     "execution_count": 64,
     "metadata": {},
     "output_type": "execute_result"
    }
   ],
   "source": [
    "q.replace('o', 'm', 1)"
   ]
  },
  {
   "cell_type": "code",
   "execution_count": 65,
   "id": "eleven-clinton",
   "metadata": {},
   "outputs": [],
   "source": [
    "dob = '27/12/2020'"
   ]
  },
  {
   "cell_type": "code",
   "execution_count": 66,
   "id": "flexible-observation",
   "metadata": {},
   "outputs": [],
   "source": [
    "# split method"
   ]
  },
  {
   "cell_type": "code",
   "execution_count": 70,
   "id": "above-chancellor",
   "metadata": {},
   "outputs": [
    {
     "data": {
      "text/plain": [
       "['27', '12', '2020']"
      ]
     },
     "execution_count": 70,
     "metadata": {},
     "output_type": "execute_result"
    }
   ],
   "source": [
    "dl = dob.split('/')\n",
    "dl"
   ]
  },
  {
   "cell_type": "code",
   "execution_count": 71,
   "id": "occupied-conjunction",
   "metadata": {},
   "outputs": [
    {
     "data": {
      "text/plain": [
       "['27', '12/2020']"
      ]
     },
     "execution_count": 71,
     "metadata": {},
     "output_type": "execute_result"
    }
   ],
   "source": [
    "dob.split('/', 1)"
   ]
  },
  {
   "cell_type": "code",
   "execution_count": 74,
   "id": "formed-permit",
   "metadata": {},
   "outputs": [
    {
     "data": {
      "text/plain": [
       "['Sunny', 'Prasad']"
      ]
     },
     "execution_count": 74,
     "metadata": {},
     "output_type": "execute_result"
    }
   ],
   "source": [
    "name = 'Sunny Prasad'\n",
    "ns = name.split(\" \")\n",
    "ns"
   ]
  },
  {
   "cell_type": "code",
   "execution_count": 75,
   "id": "ancient-scope",
   "metadata": {},
   "outputs": [],
   "source": [
    "fn = ns[0]\n",
    "ln = ns[-1]"
   ]
  },
  {
   "cell_type": "code",
   "execution_count": 76,
   "id": "arranged-financing",
   "metadata": {},
   "outputs": [
    {
     "data": {
      "text/plain": [
       "'Sunny'"
      ]
     },
     "execution_count": 76,
     "metadata": {},
     "output_type": "execute_result"
    }
   ],
   "source": [
    "fn"
   ]
  },
  {
   "cell_type": "code",
   "execution_count": 77,
   "id": "foreign-timothy",
   "metadata": {},
   "outputs": [
    {
     "data": {
      "text/plain": [
       "'Prasad'"
      ]
     },
     "execution_count": 77,
     "metadata": {},
     "output_type": "execute_result"
    }
   ],
   "source": [
    "ln"
   ]
  },
  {
   "cell_type": "code",
   "execution_count": 79,
   "id": "dressed-partition",
   "metadata": {},
   "outputs": [
    {
     "data": {
      "text/plain": [
       "['Neil', 'Nitin', 'Mukesh']"
      ]
     },
     "execution_count": 79,
     "metadata": {},
     "output_type": "execute_result"
    }
   ],
   "source": [
    "n = 'Neil Nitin Mukesh'\n",
    "sn = n.split(\" \")\n",
    "sn"
   ]
  },
  {
   "cell_type": "code",
   "execution_count": 80,
   "id": "current-arthritis",
   "metadata": {},
   "outputs": [
    {
     "data": {
      "text/plain": [
       "'Neil Nitin Mukesh'"
      ]
     },
     "execution_count": 80,
     "metadata": {},
     "output_type": "execute_result"
    }
   ],
   "source": [
    "n"
   ]
  },
  {
   "cell_type": "code",
   "execution_count": 81,
   "id": "finite-success",
   "metadata": {},
   "outputs": [
    {
     "data": {
      "text/plain": [
       "'NEIL NITIN MUKESH'"
      ]
     },
     "execution_count": 81,
     "metadata": {},
     "output_type": "execute_result"
    }
   ],
   "source": [
    "nu = n.upper()\n",
    "nu"
   ]
  },
  {
   "cell_type": "code",
   "execution_count": 82,
   "id": "decimal-friday",
   "metadata": {},
   "outputs": [
    {
     "data": {
      "text/plain": [
       "'neil nitin mukesh'"
      ]
     },
     "execution_count": 82,
     "metadata": {},
     "output_type": "execute_result"
    }
   ],
   "source": [
    "nl = n.lower()\n",
    "nl"
   ]
  },
  {
   "cell_type": "code",
   "execution_count": 83,
   "id": "nonprofit-barrel",
   "metadata": {},
   "outputs": [
    {
     "data": {
      "text/plain": [
       "'Neil Nitin Mukesh'"
      ]
     },
     "execution_count": 83,
     "metadata": {},
     "output_type": "execute_result"
    }
   ],
   "source": [
    "nt = n.title()\n",
    "nt"
   ]
  },
  {
   "cell_type": "code",
   "execution_count": 84,
   "id": "elder-humanitarian",
   "metadata": {},
   "outputs": [
    {
     "data": {
      "text/plain": [
       "'Neil nitin mukesh'"
      ]
     },
     "execution_count": 84,
     "metadata": {},
     "output_type": "execute_result"
    }
   ],
   "source": [
    "nc = n.capitalize()\n",
    "nc"
   ]
  },
  {
   "cell_type": "code",
   "execution_count": 85,
   "id": "stylish-consultancy",
   "metadata": {},
   "outputs": [
    {
     "name": "stdout",
     "output_type": "stream",
     "text": [
      "Enter name: hArshil\n"
     ]
    },
    {
     "data": {
      "text/plain": [
       "'hArshil'"
      ]
     },
     "execution_count": 85,
     "metadata": {},
     "output_type": "execute_result"
    }
   ],
   "source": [
    "name = input('Enter name: ')\n",
    "name"
   ]
  },
  {
   "cell_type": "code",
   "execution_count": 87,
   "id": "interior-collar",
   "metadata": {},
   "outputs": [
    {
     "data": {
      "text/plain": [
       "'HARSHIL'"
      ]
     },
     "execution_count": 87,
     "metadata": {},
     "output_type": "execute_result"
    }
   ],
   "source": [
    "name = name.upper()\n",
    "name"
   ]
  },
  {
   "cell_type": "code",
   "execution_count": 90,
   "id": "handled-melissa",
   "metadata": {},
   "outputs": [
    {
     "name": "stdout",
     "output_type": "stream",
     "text": [
      "Enter name: Adhi\n"
     ]
    },
    {
     "data": {
      "text/plain": [
       "'ADHI'"
      ]
     },
     "execution_count": 90,
     "metadata": {},
     "output_type": "execute_result"
    }
   ],
   "source": [
    "name = input('Enter name: ').upper()\n",
    "name"
   ]
  },
  {
   "cell_type": "code",
   "execution_count": 91,
   "id": "copyrighted-intro",
   "metadata": {},
   "outputs": [
    {
     "data": {
      "text/plain": [
       "'34'"
      ]
     },
     "execution_count": 91,
     "metadata": {},
     "output_type": "execute_result"
    }
   ],
   "source": [
    "i = 34\n",
    "si = str(i)\n",
    "si"
   ]
  },
  {
   "cell_type": "code",
   "execution_count": 92,
   "id": "mental-offer",
   "metadata": {},
   "outputs": [
    {
     "data": {
      "text/plain": [
       "'34'"
      ]
     },
     "execution_count": 92,
     "metadata": {},
     "output_type": "execute_result"
    }
   ],
   "source": [
    "si.upper()"
   ]
  },
  {
   "cell_type": "code",
   "execution_count": 93,
   "id": "powerful-realtor",
   "metadata": {},
   "outputs": [
    {
     "data": {
      "text/plain": [
       "'34EKN'"
      ]
     },
     "execution_count": 93,
     "metadata": {},
     "output_type": "execute_result"
    }
   ],
   "source": [
    "num = '34ekn'\n",
    "num.upper()"
   ]
  },
  {
   "cell_type": "code",
   "execution_count": 94,
   "id": "yellow-novelty",
   "metadata": {},
   "outputs": [
    {
     "data": {
      "text/plain": [
       "'NEIL NITIN MUKESH'"
      ]
     },
     "execution_count": 94,
     "metadata": {},
     "output_type": "execute_result"
    }
   ],
   "source": [
    "nu"
   ]
  },
  {
   "cell_type": "code",
   "execution_count": 95,
   "id": "yellow-canyon",
   "metadata": {},
   "outputs": [
    {
     "data": {
      "text/plain": [
       "True"
      ]
     },
     "execution_count": 95,
     "metadata": {},
     "output_type": "execute_result"
    }
   ],
   "source": [
    "nu.isupper()"
   ]
  },
  {
   "cell_type": "code",
   "execution_count": 96,
   "id": "geographic-singles",
   "metadata": {},
   "outputs": [
    {
     "data": {
      "text/plain": [
       "'Neil Nitin Mukesh'"
      ]
     },
     "execution_count": 96,
     "metadata": {},
     "output_type": "execute_result"
    }
   ],
   "source": [
    "n"
   ]
  },
  {
   "cell_type": "code",
   "execution_count": 97,
   "id": "prescription-brooks",
   "metadata": {},
   "outputs": [
    {
     "data": {
      "text/plain": [
       "False"
      ]
     },
     "execution_count": 97,
     "metadata": {},
     "output_type": "execute_result"
    }
   ],
   "source": [
    "n.isupper()"
   ]
  },
  {
   "cell_type": "code",
   "execution_count": 98,
   "id": "desirable-ladder",
   "metadata": {},
   "outputs": [
    {
     "data": {
      "text/plain": [
       "True"
      ]
     },
     "execution_count": 98,
     "metadata": {},
     "output_type": "execute_result"
    }
   ],
   "source": [
    "n.istitle()"
   ]
  },
  {
   "cell_type": "code",
   "execution_count": 99,
   "id": "union-tennessee",
   "metadata": {},
   "outputs": [
    {
     "data": {
      "text/plain": [
       "'neil nitin mukesh'"
      ]
     },
     "execution_count": 99,
     "metadata": {},
     "output_type": "execute_result"
    }
   ],
   "source": [
    "nl"
   ]
  },
  {
   "cell_type": "code",
   "execution_count": 100,
   "id": "first-religion",
   "metadata": {},
   "outputs": [
    {
     "data": {
      "text/plain": [
       "True"
      ]
     },
     "execution_count": 100,
     "metadata": {},
     "output_type": "execute_result"
    }
   ],
   "source": [
    "nl.islower()"
   ]
  },
  {
   "cell_type": "code",
   "execution_count": 102,
   "id": "sustained-criterion",
   "metadata": {},
   "outputs": [
    {
     "data": {
      "text/plain": [
       "'Neil Nitin Mukesh'"
      ]
     },
     "execution_count": 102,
     "metadata": {},
     "output_type": "execute_result"
    }
   ],
   "source": [
    "n"
   ]
  },
  {
   "cell_type": "code",
   "execution_count": 103,
   "id": "level-sandwich",
   "metadata": {},
   "outputs": [
    {
     "data": {
      "text/plain": [
       "False"
      ]
     },
     "execution_count": 103,
     "metadata": {},
     "output_type": "execute_result"
    }
   ],
   "source": [
    "n.islower()"
   ]
  },
  {
   "cell_type": "code",
   "execution_count": 104,
   "id": "operational-bonus",
   "metadata": {},
   "outputs": [
    {
     "data": {
      "text/plain": [
       "'hello'"
      ]
     },
     "execution_count": 104,
     "metadata": {},
     "output_type": "execute_result"
    }
   ],
   "source": [
    "s"
   ]
  },
  {
   "cell_type": "code",
   "execution_count": 105,
   "id": "enormous-orleans",
   "metadata": {},
   "outputs": [
    {
     "data": {
      "text/plain": [
       "True"
      ]
     },
     "execution_count": 105,
     "metadata": {},
     "output_type": "execute_result"
    }
   ],
   "source": [
    "s.isalpha()"
   ]
  },
  {
   "cell_type": "code",
   "execution_count": 106,
   "id": "tribal-kitchen",
   "metadata": {},
   "outputs": [
    {
     "data": {
      "text/plain": [
       "'Neil Nitin Mukesh'"
      ]
     },
     "execution_count": 106,
     "metadata": {},
     "output_type": "execute_result"
    }
   ],
   "source": [
    "n"
   ]
  },
  {
   "cell_type": "code",
   "execution_count": 107,
   "id": "nearby-frank",
   "metadata": {},
   "outputs": [
    {
     "data": {
      "text/plain": [
       "False"
      ]
     },
     "execution_count": 107,
     "metadata": {},
     "output_type": "execute_result"
    }
   ],
   "source": [
    "n.isalpha()"
   ]
  },
  {
   "cell_type": "code",
   "execution_count": 108,
   "id": "obvious-dinner",
   "metadata": {},
   "outputs": [
    {
     "data": {
      "text/plain": [
       "'34'"
      ]
     },
     "execution_count": 108,
     "metadata": {},
     "output_type": "execute_result"
    }
   ],
   "source": [
    "si"
   ]
  },
  {
   "cell_type": "code",
   "execution_count": 109,
   "id": "fresh-expense",
   "metadata": {},
   "outputs": [
    {
     "data": {
      "text/plain": [
       "True"
      ]
     },
     "execution_count": 109,
     "metadata": {},
     "output_type": "execute_result"
    }
   ],
   "source": [
    "si.isdigit()"
   ]
  },
  {
   "cell_type": "code",
   "execution_count": 110,
   "id": "characteristic-generator",
   "metadata": {},
   "outputs": [
    {
     "data": {
      "text/plain": [
       "'34ekn'"
      ]
     },
     "execution_count": 110,
     "metadata": {},
     "output_type": "execute_result"
    }
   ],
   "source": [
    "num"
   ]
  },
  {
   "cell_type": "code",
   "execution_count": 111,
   "id": "dried-crack",
   "metadata": {},
   "outputs": [
    {
     "data": {
      "text/plain": [
       "False"
      ]
     },
     "execution_count": 111,
     "metadata": {},
     "output_type": "execute_result"
    }
   ],
   "source": [
    "num.isdigit()"
   ]
  },
  {
   "cell_type": "code",
   "execution_count": 112,
   "id": "outstanding-armenia",
   "metadata": {},
   "outputs": [
    {
     "data": {
      "text/plain": [
       "True"
      ]
     },
     "execution_count": 112,
     "metadata": {},
     "output_type": "execute_result"
    }
   ],
   "source": [
    "num.isalnum()"
   ]
  },
  {
   "cell_type": "code",
   "execution_count": 113,
   "id": "lined-dealer",
   "metadata": {},
   "outputs": [
    {
     "data": {
      "text/plain": [
       "'34'"
      ]
     },
     "execution_count": 113,
     "metadata": {},
     "output_type": "execute_result"
    }
   ],
   "source": [
    "si"
   ]
  },
  {
   "cell_type": "code",
   "execution_count": 114,
   "id": "lesser-exposure",
   "metadata": {},
   "outputs": [
    {
     "data": {
      "text/plain": [
       "True"
      ]
     },
     "execution_count": 114,
     "metadata": {},
     "output_type": "execute_result"
    }
   ],
   "source": [
    "si.isalnum()"
   ]
  },
  {
   "cell_type": "code",
   "execution_count": 115,
   "id": "qualified-house",
   "metadata": {},
   "outputs": [
    {
     "data": {
      "text/plain": [
       "'hello'"
      ]
     },
     "execution_count": 115,
     "metadata": {},
     "output_type": "execute_result"
    }
   ],
   "source": [
    "s"
   ]
  },
  {
   "cell_type": "code",
   "execution_count": 116,
   "id": "affecting-oriental",
   "metadata": {},
   "outputs": [
    {
     "data": {
      "text/plain": [
       "True"
      ]
     },
     "execution_count": 116,
     "metadata": {},
     "output_type": "execute_result"
    }
   ],
   "source": [
    "s.isalnum()"
   ]
  },
  {
   "cell_type": "code",
   "execution_count": 117,
   "id": "muslim-winner",
   "metadata": {},
   "outputs": [
    {
     "data": {
      "text/plain": [
       "'Neil Nitin Mukesh'"
      ]
     },
     "execution_count": 117,
     "metadata": {},
     "output_type": "execute_result"
    }
   ],
   "source": [
    "n"
   ]
  },
  {
   "cell_type": "code",
   "execution_count": 118,
   "id": "rising-roots",
   "metadata": {},
   "outputs": [
    {
     "data": {
      "text/plain": [
       "False"
      ]
     },
     "execution_count": 118,
     "metadata": {},
     "output_type": "execute_result"
    }
   ],
   "source": [
    "n.isalnum()"
   ]
  },
  {
   "cell_type": "code",
   "execution_count": 119,
   "id": "least-pledge",
   "metadata": {},
   "outputs": [
    {
     "data": {
      "text/plain": [
       "'hello'"
      ]
     },
     "execution_count": 119,
     "metadata": {},
     "output_type": "execute_result"
    }
   ],
   "source": [
    "s"
   ]
  },
  {
   "cell_type": "code",
   "execution_count": 120,
   "id": "anonymous-martin",
   "metadata": {},
   "outputs": [
    {
     "data": {
      "text/plain": [
       "'o'"
      ]
     },
     "execution_count": 120,
     "metadata": {},
     "output_type": "execute_result"
    }
   ],
   "source": [
    "max(s)"
   ]
  },
  {
   "cell_type": "code",
   "execution_count": 121,
   "id": "endless-encounter",
   "metadata": {},
   "outputs": [
    {
     "data": {
      "text/plain": [
       "'Neil Nitin Mukesh'"
      ]
     },
     "execution_count": 121,
     "metadata": {},
     "output_type": "execute_result"
    }
   ],
   "source": [
    "n"
   ]
  },
  {
   "cell_type": "code",
   "execution_count": 122,
   "id": "increasing-japanese",
   "metadata": {},
   "outputs": [
    {
     "data": {
      "text/plain": [
       "'u'"
      ]
     },
     "execution_count": 122,
     "metadata": {},
     "output_type": "execute_result"
    }
   ],
   "source": [
    "max(n)"
   ]
  },
  {
   "cell_type": "code",
   "execution_count": 123,
   "id": "attempted-ladder",
   "metadata": {},
   "outputs": [
    {
     "data": {
      "text/plain": [
       "' '"
      ]
     },
     "execution_count": 123,
     "metadata": {},
     "output_type": "execute_result"
    }
   ],
   "source": [
    "min(n)"
   ]
  },
  {
   "cell_type": "markdown",
   "id": "noticed-hunger",
   "metadata": {},
   "source": [
    "## Operations on List"
   ]
  },
  {
   "cell_type": "code",
   "execution_count": 124,
   "id": "included-preserve",
   "metadata": {},
   "outputs": [],
   "source": [
    "l1 = ['hi', 5, 9]\n",
    "l2 = [0, 1, 5, 3]"
   ]
  },
  {
   "cell_type": "code",
   "execution_count": 125,
   "id": "happy-undergraduate",
   "metadata": {},
   "outputs": [
    {
     "data": {
      "text/plain": [
       "['hi', 5, 9, 0, 1, 5, 3]"
      ]
     },
     "execution_count": 125,
     "metadata": {},
     "output_type": "execute_result"
    }
   ],
   "source": [
    "l3 = l1 + l2\n",
    "l3"
   ]
  },
  {
   "cell_type": "code",
   "execution_count": 127,
   "id": "fixed-barbados",
   "metadata": {},
   "outputs": [
    {
     "data": {
      "text/plain": [
       "['hi', 5, 9, 'hi', 5, 9, 'hi', 5, 9]"
      ]
     },
     "execution_count": 127,
     "metadata": {},
     "output_type": "execute_result"
    }
   ],
   "source": [
    "l1 * 3"
   ]
  },
  {
   "cell_type": "code",
   "execution_count": 128,
   "id": "pacific-perfume",
   "metadata": {},
   "outputs": [
    {
     "data": {
      "text/plain": [
       "[0, 1, 5, 3]"
      ]
     },
     "execution_count": 128,
     "metadata": {},
     "output_type": "execute_result"
    }
   ],
   "source": [
    "l2"
   ]
  },
  {
   "cell_type": "code",
   "execution_count": 129,
   "id": "equipped-reasoning",
   "metadata": {},
   "outputs": [
    {
     "data": {
      "text/plain": [
       "5"
      ]
     },
     "execution_count": 129,
     "metadata": {},
     "output_type": "execute_result"
    }
   ],
   "source": [
    "l2[2]"
   ]
  },
  {
   "cell_type": "code",
   "execution_count": 130,
   "id": "located-shuttle",
   "metadata": {},
   "outputs": [
    {
     "data": {
      "text/plain": [
       "['hi', 5, 9, 0, 1, 5, 3]"
      ]
     },
     "execution_count": 130,
     "metadata": {},
     "output_type": "execute_result"
    }
   ],
   "source": [
    "l3"
   ]
  },
  {
   "cell_type": "code",
   "execution_count": 131,
   "id": "motivated-bolivia",
   "metadata": {},
   "outputs": [
    {
     "data": {
      "text/plain": [
       "[3, 5, 1, 0, 9, 5, 'hi']"
      ]
     },
     "execution_count": 131,
     "metadata": {},
     "output_type": "execute_result"
    }
   ],
   "source": [
    "l3[::-1]"
   ]
  },
  {
   "cell_type": "markdown",
   "id": "inside-buffalo",
   "metadata": {},
   "source": [
    "## Methods on List"
   ]
  },
  {
   "cell_type": "code",
   "execution_count": 132,
   "id": "diverse-illinois",
   "metadata": {},
   "outputs": [
    {
     "data": {
      "text/plain": [
       "['hi', 5, 9]"
      ]
     },
     "execution_count": 132,
     "metadata": {},
     "output_type": "execute_result"
    }
   ],
   "source": [
    "l1"
   ]
  },
  {
   "cell_type": "code",
   "execution_count": 133,
   "id": "assumed-river",
   "metadata": {},
   "outputs": [
    {
     "data": {
      "text/plain": [
       "['hi', 5, 9, 'maybe']"
      ]
     },
     "execution_count": 133,
     "metadata": {},
     "output_type": "execute_result"
    }
   ],
   "source": [
    "l1.append('maybe')\n",
    "l1"
   ]
  },
  {
   "cell_type": "code",
   "execution_count": 134,
   "id": "fatal-clerk",
   "metadata": {},
   "outputs": [
    {
     "data": {
      "text/plain": [
       "['hi', 5, 9, 'maybe', [2, 8]]"
      ]
     },
     "execution_count": 134,
     "metadata": {},
     "output_type": "execute_result"
    }
   ],
   "source": [
    "l1.append([2, 8])\n",
    "l1"
   ]
  },
  {
   "cell_type": "code",
   "execution_count": 136,
   "id": "dying-dream",
   "metadata": {},
   "outputs": [
    {
     "data": {
      "text/plain": [
       "['hi', 5, 9, 'maybe', [2, 8], 2, 8]"
      ]
     },
     "execution_count": 136,
     "metadata": {},
     "output_type": "execute_result"
    }
   ],
   "source": [
    "l1.extend([2, 8])\n",
    "l1"
   ]
  },
  {
   "cell_type": "code",
   "execution_count": 137,
   "id": "laden-tactics",
   "metadata": {},
   "outputs": [],
   "source": [
    "l1.extend('maybe')"
   ]
  },
  {
   "cell_type": "code",
   "execution_count": 139,
   "id": "painted-shooting",
   "metadata": {},
   "outputs": [
    {
     "data": {
      "text/plain": [
       "['hi', 5, 9, 'maybe', [2, 8], 2, 8, 'm', 'a', 'y', 'b', 'e']"
      ]
     },
     "execution_count": 139,
     "metadata": {},
     "output_type": "execute_result"
    }
   ],
   "source": [
    "l1"
   ]
  },
  {
   "cell_type": "code",
   "execution_count": 140,
   "id": "fewer-trust",
   "metadata": {},
   "outputs": [
    {
     "data": {
      "text/plain": [
       "[0, 1, 5, 3]"
      ]
     },
     "execution_count": 140,
     "metadata": {},
     "output_type": "execute_result"
    }
   ],
   "source": [
    "l2"
   ]
  },
  {
   "cell_type": "code",
   "execution_count": 141,
   "id": "judicial-representation",
   "metadata": {},
   "outputs": [
    {
     "data": {
      "text/plain": [
       "[0, 1, 5, 'hi', 3]"
      ]
     },
     "execution_count": 141,
     "metadata": {},
     "output_type": "execute_result"
    }
   ],
   "source": [
    "l2.insert(3, 'hi')\n",
    "l2"
   ]
  },
  {
   "cell_type": "code",
   "execution_count": 142,
   "id": "human-citation",
   "metadata": {},
   "outputs": [
    {
     "data": {
      "text/plain": [
       "5"
      ]
     },
     "execution_count": 142,
     "metadata": {},
     "output_type": "execute_result"
    }
   ],
   "source": [
    "len(l2)"
   ]
  },
  {
   "cell_type": "code",
   "execution_count": 143,
   "id": "growing-tokyo",
   "metadata": {},
   "outputs": [
    {
     "data": {
      "text/plain": [
       "[0, 1, 5, 'hi', 3, 96]"
      ]
     },
     "execution_count": 143,
     "metadata": {},
     "output_type": "execute_result"
    }
   ],
   "source": [
    "l2.insert(len(l2), 96)       # l2.append(96)\n",
    "l2"
   ]
  },
  {
   "cell_type": "code",
   "execution_count": 144,
   "id": "atmospheric-reading",
   "metadata": {},
   "outputs": [
    {
     "data": {
      "text/plain": [
       "[0, 1, 5, 'hi', 3, 96, 'yo']"
      ]
     },
     "execution_count": 144,
     "metadata": {},
     "output_type": "execute_result"
    }
   ],
   "source": [
    "l2.insert(15, 'yo')\n",
    "l2"
   ]
  },
  {
   "cell_type": "code",
   "execution_count": 145,
   "id": "according-chair",
   "metadata": {},
   "outputs": [
    {
     "data": {
      "text/plain": [
       "['hi', 5, 9, 'maybe', [2, 8], 2, 8, 'm', 'a', 'y', 'b', 'e']"
      ]
     },
     "execution_count": 145,
     "metadata": {},
     "output_type": "execute_result"
    }
   ],
   "source": [
    "l1"
   ]
  },
  {
   "cell_type": "code",
   "execution_count": 146,
   "id": "burning-scout",
   "metadata": {},
   "outputs": [
    {
     "data": {
      "text/plain": [
       "'e'"
      ]
     },
     "execution_count": 146,
     "metadata": {},
     "output_type": "execute_result"
    }
   ],
   "source": [
    "l1.pop()     # index = -1"
   ]
  },
  {
   "cell_type": "code",
   "execution_count": 147,
   "id": "contained-rough",
   "metadata": {},
   "outputs": [
    {
     "data": {
      "text/plain": [
       "['hi', 5, 9, 'maybe', [2, 8], 2, 8, 'm', 'a', 'y', 'b']"
      ]
     },
     "execution_count": 147,
     "metadata": {},
     "output_type": "execute_result"
    }
   ],
   "source": [
    "l1"
   ]
  },
  {
   "cell_type": "code",
   "execution_count": 149,
   "id": "saving-lesbian",
   "metadata": {},
   "outputs": [
    {
     "data": {
      "text/plain": [
       "'a'"
      ]
     },
     "execution_count": 149,
     "metadata": {},
     "output_type": "execute_result"
    }
   ],
   "source": [
    "l1.pop(-3)"
   ]
  },
  {
   "cell_type": "code",
   "execution_count": 150,
   "id": "physical-praise",
   "metadata": {},
   "outputs": [
    {
     "data": {
      "text/plain": [
       "['hi', 5, 9, 'maybe', [2, 8], 2, 8, 'm', 'y', 'b']"
      ]
     },
     "execution_count": 150,
     "metadata": {},
     "output_type": "execute_result"
    }
   ],
   "source": [
    "l1"
   ]
  },
  {
   "cell_type": "code",
   "execution_count": 151,
   "id": "golden-excess",
   "metadata": {},
   "outputs": [],
   "source": [
    "l1.remove('m')"
   ]
  },
  {
   "cell_type": "code",
   "execution_count": 152,
   "id": "returning-composer",
   "metadata": {},
   "outputs": [
    {
     "data": {
      "text/plain": [
       "['hi', 5, 9, 'maybe', [2, 8], 2, 8, 'y', 'b']"
      ]
     },
     "execution_count": 152,
     "metadata": {},
     "output_type": "execute_result"
    }
   ],
   "source": [
    "l1"
   ]
  },
  {
   "cell_type": "code",
   "execution_count": 153,
   "id": "liked-mother",
   "metadata": {},
   "outputs": [
    {
     "data": {
      "text/plain": [
       "[8, 9, 4, 2, 0, 8, 3, 4, 5]"
      ]
     },
     "execution_count": 153,
     "metadata": {},
     "output_type": "execute_result"
    }
   ],
   "source": [
    "l = [4, 8, 9, 4, 2, 0, 8, 3, 4, 5]\n",
    "l.remove(4)\n",
    "l"
   ]
  },
  {
   "cell_type": "code",
   "execution_count": 157,
   "id": "logical-whale",
   "metadata": {},
   "outputs": [
    {
     "name": "stdout",
     "output_type": "stream",
     "text": [
      "[8, 9, 2, 0, 8, 3, 5]\n"
     ]
    }
   ],
   "source": [
    "l = [4, 8, 9, 4, 2, 0, 8, 3, 4, 5]\n",
    "for x in range(l.count(4)):\n",
    "    l.remove(4)\n",
    "    \n",
    "print(l)"
   ]
  },
  {
   "cell_type": "code",
   "execution_count": 158,
   "id": "clinical-manufacturer",
   "metadata": {},
   "outputs": [
    {
     "data": {
      "text/plain": [
       "[8, 9, 2, 0, 8, 3, 5]"
      ]
     },
     "execution_count": 158,
     "metadata": {},
     "output_type": "execute_result"
    }
   ],
   "source": [
    "l"
   ]
  },
  {
   "cell_type": "code",
   "execution_count": 159,
   "id": "velvet-conspiracy",
   "metadata": {},
   "outputs": [
    {
     "ename": "ValueError",
     "evalue": "list.remove(x): x not in list",
     "output_type": "error",
     "traceback": [
      "\u001b[1;31m---------------------------------------------------------------------------\u001b[0m",
      "\u001b[1;31mValueError\u001b[0m                                Traceback (most recent call last)",
      "\u001b[1;32m<ipython-input-159-fdccbb53fad4>\u001b[0m in \u001b[0;36m<module>\u001b[1;34m\u001b[0m\n\u001b[1;32m----> 1\u001b[1;33m \u001b[0ml\u001b[0m\u001b[1;33m.\u001b[0m\u001b[0mremove\u001b[0m\u001b[1;33m(\u001b[0m\u001b[1;36m4\u001b[0m\u001b[1;33m)\u001b[0m\u001b[1;33m\u001b[0m\u001b[1;33m\u001b[0m\u001b[0m\n\u001b[0m",
      "\u001b[1;31mValueError\u001b[0m: list.remove(x): x not in list"
     ]
    }
   ],
   "source": [
    "l.remove(4)"
   ]
  },
  {
   "cell_type": "code",
   "execution_count": 160,
   "id": "applied-christopher",
   "metadata": {},
   "outputs": [
    {
     "ename": "IndexError",
     "evalue": "pop index out of range",
     "output_type": "error",
     "traceback": [
      "\u001b[1;31m---------------------------------------------------------------------------\u001b[0m",
      "\u001b[1;31mIndexError\u001b[0m                                Traceback (most recent call last)",
      "\u001b[1;32m<ipython-input-160-00058c5fdfeb>\u001b[0m in \u001b[0;36m<module>\u001b[1;34m\u001b[0m\n\u001b[1;32m----> 1\u001b[1;33m \u001b[0ml\u001b[0m\u001b[1;33m.\u001b[0m\u001b[0mpop\u001b[0m\u001b[1;33m(\u001b[0m\u001b[1;36m15\u001b[0m\u001b[1;33m)\u001b[0m\u001b[1;33m\u001b[0m\u001b[1;33m\u001b[0m\u001b[0m\n\u001b[0m",
      "\u001b[1;31mIndexError\u001b[0m: pop index out of range"
     ]
    }
   ],
   "source": [
    "l.pop(15)"
   ]
  },
  {
   "cell_type": "code",
   "execution_count": 161,
   "id": "precise-opera",
   "metadata": {},
   "outputs": [
    {
     "data": {
      "text/plain": [
       "[8, 9, 2, 0, 8, 3, 5]"
      ]
     },
     "execution_count": 161,
     "metadata": {},
     "output_type": "execute_result"
    }
   ],
   "source": [
    "l"
   ]
  },
  {
   "cell_type": "code",
   "execution_count": 162,
   "id": "negative-bunny",
   "metadata": {},
   "outputs": [
    {
     "data": {
      "text/plain": [
       "[]"
      ]
     },
     "execution_count": 162,
     "metadata": {},
     "output_type": "execute_result"
    }
   ],
   "source": [
    "l.clear()\n",
    "l"
   ]
  },
  {
   "cell_type": "code",
   "execution_count": 163,
   "id": "monthly-opinion",
   "metadata": {},
   "outputs": [
    {
     "data": {
      "text/plain": [
       "['hi', 5, 9, 'maybe', [2, 8], 2, 8, 'y', 'b']"
      ]
     },
     "execution_count": 163,
     "metadata": {},
     "output_type": "execute_result"
    }
   ],
   "source": [
    "l1"
   ]
  },
  {
   "cell_type": "code",
   "execution_count": 164,
   "id": "robust-sister",
   "metadata": {},
   "outputs": [
    {
     "data": {
      "text/plain": [
       "3"
      ]
     },
     "execution_count": 164,
     "metadata": {},
     "output_type": "execute_result"
    }
   ],
   "source": [
    "l1.index('maybe')"
   ]
  },
  {
   "cell_type": "code",
   "execution_count": 166,
   "id": "southern-lawsuit",
   "metadata": {},
   "outputs": [],
   "source": [
    "i = 12"
   ]
  },
  {
   "cell_type": "code",
   "execution_count": 167,
   "id": "lyric-tolerance",
   "metadata": {},
   "outputs": [],
   "source": [
    "j = i"
   ]
  },
  {
   "cell_type": "code",
   "execution_count": 168,
   "id": "addressed-fisher",
   "metadata": {},
   "outputs": [
    {
     "data": {
      "text/plain": [
       "12"
      ]
     },
     "execution_count": 168,
     "metadata": {},
     "output_type": "execute_result"
    }
   ],
   "source": [
    "j"
   ]
  },
  {
   "cell_type": "code",
   "execution_count": 169,
   "id": "written-payday",
   "metadata": {},
   "outputs": [],
   "source": [
    "j = 34"
   ]
  },
  {
   "cell_type": "code",
   "execution_count": 170,
   "id": "vertical-knock",
   "metadata": {},
   "outputs": [
    {
     "data": {
      "text/plain": [
       "34"
      ]
     },
     "execution_count": 170,
     "metadata": {},
     "output_type": "execute_result"
    }
   ],
   "source": [
    "j"
   ]
  },
  {
   "cell_type": "code",
   "execution_count": 171,
   "id": "decreased-mortality",
   "metadata": {},
   "outputs": [
    {
     "data": {
      "text/plain": [
       "12"
      ]
     },
     "execution_count": 171,
     "metadata": {},
     "output_type": "execute_result"
    }
   ],
   "source": [
    "i"
   ]
  },
  {
   "cell_type": "code",
   "execution_count": 172,
   "id": "heard-cocktail",
   "metadata": {},
   "outputs": [
    {
     "data": {
      "text/plain": [
       "[0, 1, 5, 'hi', 3, 96, 'yo']"
      ]
     },
     "execution_count": 172,
     "metadata": {},
     "output_type": "execute_result"
    }
   ],
   "source": [
    "l2"
   ]
  },
  {
   "cell_type": "code",
   "execution_count": 173,
   "id": "collected-trigger",
   "metadata": {},
   "outputs": [],
   "source": [
    "l5 = l2"
   ]
  },
  {
   "cell_type": "code",
   "execution_count": 174,
   "id": "following-backup",
   "metadata": {},
   "outputs": [
    {
     "data": {
      "text/plain": [
       "[0, 1, 5, 'hi', 3, 96, 'yo']"
      ]
     },
     "execution_count": 174,
     "metadata": {},
     "output_type": "execute_result"
    }
   ],
   "source": [
    "l5"
   ]
  },
  {
   "cell_type": "code",
   "execution_count": 175,
   "id": "duplicate-alloy",
   "metadata": {},
   "outputs": [
    {
     "data": {
      "text/plain": [
       "5"
      ]
     },
     "execution_count": 175,
     "metadata": {},
     "output_type": "execute_result"
    }
   ],
   "source": [
    "l5.pop(2)"
   ]
  },
  {
   "cell_type": "code",
   "execution_count": 176,
   "id": "divine-nickname",
   "metadata": {},
   "outputs": [
    {
     "data": {
      "text/plain": [
       "[0, 1, 'hi', 3, 96, 'yo']"
      ]
     },
     "execution_count": 176,
     "metadata": {},
     "output_type": "execute_result"
    }
   ],
   "source": [
    "l5"
   ]
  },
  {
   "cell_type": "code",
   "execution_count": 177,
   "id": "deluxe-conditioning",
   "metadata": {},
   "outputs": [
    {
     "data": {
      "text/plain": [
       "[0, 1, 'hi', 3, 96, 'yo']"
      ]
     },
     "execution_count": 177,
     "metadata": {},
     "output_type": "execute_result"
    }
   ],
   "source": [
    "l2"
   ]
  },
  {
   "cell_type": "code",
   "execution_count": 178,
   "id": "exclusive-daniel",
   "metadata": {},
   "outputs": [
    {
     "data": {
      "text/plain": [
       "[0, 1, 'hi', 3, 96, 'yo']"
      ]
     },
     "execution_count": 178,
     "metadata": {},
     "output_type": "execute_result"
    }
   ],
   "source": [
    "l6 = l2.copy()\n",
    "l6"
   ]
  },
  {
   "cell_type": "code",
   "execution_count": 179,
   "id": "descending-phase",
   "metadata": {},
   "outputs": [
    {
     "data": {
      "text/plain": [
       "[0, 1, 3, 96, 'yo']"
      ]
     },
     "execution_count": 179,
     "metadata": {},
     "output_type": "execute_result"
    }
   ],
   "source": [
    "l6.pop(2)\n",
    "l6"
   ]
  },
  {
   "cell_type": "code",
   "execution_count": 180,
   "id": "norman-stewart",
   "metadata": {},
   "outputs": [
    {
     "data": {
      "text/plain": [
       "[0, 1, 'hi', 3, 96, 'yo']"
      ]
     },
     "execution_count": 180,
     "metadata": {},
     "output_type": "execute_result"
    }
   ],
   "source": [
    "l2"
   ]
  },
  {
   "cell_type": "code",
   "execution_count": 181,
   "id": "metric-extraction",
   "metadata": {},
   "outputs": [
    {
     "data": {
      "text/plain": [
       "2812821010368"
      ]
     },
     "execution_count": 181,
     "metadata": {},
     "output_type": "execute_result"
    }
   ],
   "source": [
    "id(l2)"
   ]
  },
  {
   "cell_type": "code",
   "execution_count": 182,
   "id": "motivated-taxation",
   "metadata": {},
   "outputs": [
    {
     "data": {
      "text/plain": [
       "2812821010368"
      ]
     },
     "execution_count": 182,
     "metadata": {},
     "output_type": "execute_result"
    }
   ],
   "source": [
    "id(l5)"
   ]
  },
  {
   "cell_type": "code",
   "execution_count": 183,
   "id": "hearing-gabriel",
   "metadata": {},
   "outputs": [
    {
     "data": {
      "text/plain": [
       "2812820429440"
      ]
     },
     "execution_count": 183,
     "metadata": {},
     "output_type": "execute_result"
    }
   ],
   "source": [
    "id(l6)"
   ]
  },
  {
   "cell_type": "code",
   "execution_count": 185,
   "id": "skilled-moses",
   "metadata": {},
   "outputs": [
    {
     "data": {
      "text/plain": [
       "[3, 7, 0, 6, 10]"
      ]
     },
     "execution_count": 185,
     "metadata": {},
     "output_type": "execute_result"
    }
   ],
   "source": [
    "li = [3, 7, 0, 6, 10]\n",
    "li"
   ]
  },
  {
   "cell_type": "code",
   "execution_count": 186,
   "id": "hourly-massachusetts",
   "metadata": {},
   "outputs": [
    {
     "data": {
      "text/plain": [
       "10"
      ]
     },
     "execution_count": 186,
     "metadata": {},
     "output_type": "execute_result"
    }
   ],
   "source": [
    "max(li)"
   ]
  },
  {
   "cell_type": "code",
   "execution_count": 187,
   "id": "bottom-spouse",
   "metadata": {},
   "outputs": [
    {
     "data": {
      "text/plain": [
       "0"
      ]
     },
     "execution_count": 187,
     "metadata": {},
     "output_type": "execute_result"
    }
   ],
   "source": [
    "min(li)"
   ]
  },
  {
   "cell_type": "code",
   "execution_count": 188,
   "id": "ruled-enhancement",
   "metadata": {},
   "outputs": [
    {
     "data": {
      "text/plain": [
       "26"
      ]
     },
     "execution_count": 188,
     "metadata": {},
     "output_type": "execute_result"
    }
   ],
   "source": [
    "sum(li)"
   ]
  },
  {
   "cell_type": "code",
   "execution_count": 189,
   "id": "greatest-landscape",
   "metadata": {},
   "outputs": [
    {
     "data": {
      "text/plain": [
       "['hi', 5, 9, 'maybe', [2, 8], 2, 8, 'y', 'b']"
      ]
     },
     "execution_count": 189,
     "metadata": {},
     "output_type": "execute_result"
    }
   ],
   "source": [
    "l1"
   ]
  },
  {
   "cell_type": "code",
   "execution_count": 190,
   "id": "clear-mexico",
   "metadata": {},
   "outputs": [
    {
     "ename": "TypeError",
     "evalue": "unsupported operand type(s) for +: 'int' and 'str'",
     "output_type": "error",
     "traceback": [
      "\u001b[1;31m---------------------------------------------------------------------------\u001b[0m",
      "\u001b[1;31mTypeError\u001b[0m                                 Traceback (most recent call last)",
      "\u001b[1;32m<ipython-input-190-63b3ed6860c6>\u001b[0m in \u001b[0;36m<module>\u001b[1;34m\u001b[0m\n\u001b[1;32m----> 1\u001b[1;33m \u001b[0msum\u001b[0m\u001b[1;33m(\u001b[0m\u001b[0ml1\u001b[0m\u001b[1;33m)\u001b[0m\u001b[1;33m\u001b[0m\u001b[1;33m\u001b[0m\u001b[0m\n\u001b[0m",
      "\u001b[1;31mTypeError\u001b[0m: unsupported operand type(s) for +: 'int' and 'str'"
     ]
    }
   ],
   "source": [
    "sum(l1)"
   ]
  },
  {
   "cell_type": "code",
   "execution_count": 264,
   "id": "specified-sessions",
   "metadata": {},
   "outputs": [
    {
     "data": {
      "text/plain": [
       "'hello'"
      ]
     },
     "execution_count": 264,
     "metadata": {},
     "output_type": "execute_result"
    }
   ],
   "source": [
    "s"
   ]
  },
  {
   "cell_type": "code",
   "execution_count": 266,
   "id": "positive-diary",
   "metadata": {},
   "outputs": [
    {
     "data": {
      "text/plain": [
       "['h', 'e', 'l', 'l', 'o']"
      ]
     },
     "execution_count": 266,
     "metadata": {},
     "output_type": "execute_result"
    }
   ],
   "source": [
    "ls = list(s)\n",
    "ls"
   ]
  },
  {
   "cell_type": "code",
   "execution_count": 267,
   "id": "central-austin",
   "metadata": {},
   "outputs": [
    {
     "data": {
      "text/plain": [
       "\"['h', 'e', 'l', 'l', 'o']\""
      ]
     },
     "execution_count": 267,
     "metadata": {},
     "output_type": "execute_result"
    }
   ],
   "source": [
    "str(ls)"
   ]
  },
  {
   "cell_type": "code",
   "execution_count": 269,
   "id": "binding-moderator",
   "metadata": {},
   "outputs": [
    {
     "data": {
      "text/plain": [
       "'hello'"
      ]
     },
     "execution_count": 269,
     "metadata": {},
     "output_type": "execute_result"
    }
   ],
   "source": [
    "sj = \"\".join(ls)\n",
    "sj"
   ]
  },
  {
   "cell_type": "code",
   "execution_count": 272,
   "id": "nutritional-impact",
   "metadata": {},
   "outputs": [
    {
     "data": {
      "text/plain": [
       "['Sunny', 'Prasad']"
      ]
     },
     "execution_count": 272,
     "metadata": {},
     "output_type": "execute_result"
    }
   ],
   "source": [
    "ns"
   ]
  },
  {
   "cell_type": "code",
   "execution_count": 274,
   "id": "challenging-supervisor",
   "metadata": {},
   "outputs": [
    {
     "data": {
      "text/plain": [
       "'Sunny Prasad'"
      ]
     },
     "execution_count": 274,
     "metadata": {},
     "output_type": "execute_result"
    }
   ],
   "source": [
    "nsn = \" \".join(ns)\n",
    "nsn"
   ]
  },
  {
   "cell_type": "markdown",
   "id": "appointed-boring",
   "metadata": {},
   "source": [
    "## Operations on Tuple"
   ]
  },
  {
   "cell_type": "code",
   "execution_count": 191,
   "id": "annoying-geology",
   "metadata": {},
   "outputs": [],
   "source": [
    "# Concatenation\n",
    "# Repetition\n",
    "# Indexing\n",
    "# Slicing"
   ]
  },
  {
   "cell_type": "markdown",
   "id": "apart-writer",
   "metadata": {},
   "source": [
    "## Methods on Tuple"
   ]
  },
  {
   "cell_type": "code",
   "execution_count": null,
   "id": "atlantic-hierarchy",
   "metadata": {},
   "outputs": [],
   "source": [
    "# Index\n",
    "# Count\n",
    "# Max\n",
    "# Min"
   ]
  },
  {
   "cell_type": "markdown",
   "id": "fifty-suspension",
   "metadata": {},
   "source": [
    "## Methods on Dictionary"
   ]
  },
  {
   "cell_type": "code",
   "execution_count": 192,
   "id": "freelance-angel",
   "metadata": {},
   "outputs": [
    {
     "data": {
      "text/plain": [
       "{'Name': 'Adhi', 'Phone': 9354328855, 52: 90}"
      ]
     },
     "execution_count": 192,
     "metadata": {},
     "output_type": "execute_result"
    }
   ],
   "source": [
    "d = {'Name':'Adhi', 'Phone':9354328855, 52: 90}\n",
    "d"
   ]
  },
  {
   "cell_type": "code",
   "execution_count": 193,
   "id": "accepted-cambodia",
   "metadata": {},
   "outputs": [
    {
     "data": {
      "text/plain": [
       "3"
      ]
     },
     "execution_count": 193,
     "metadata": {},
     "output_type": "execute_result"
    }
   ],
   "source": [
    "len(d)"
   ]
  },
  {
   "cell_type": "code",
   "execution_count": 194,
   "id": "painted-chosen",
   "metadata": {},
   "outputs": [
    {
     "ename": "KeyError",
     "evalue": "0",
     "output_type": "error",
     "traceback": [
      "\u001b[1;31m---------------------------------------------------------------------------\u001b[0m",
      "\u001b[1;31mKeyError\u001b[0m                                  Traceback (most recent call last)",
      "\u001b[1;32m<ipython-input-194-123a9cc6df61>\u001b[0m in \u001b[0;36m<module>\u001b[1;34m\u001b[0m\n\u001b[1;32m----> 1\u001b[1;33m \u001b[0md\u001b[0m\u001b[1;33m[\u001b[0m\u001b[1;36m0\u001b[0m\u001b[1;33m]\u001b[0m\u001b[1;33m\u001b[0m\u001b[1;33m\u001b[0m\u001b[0m\n\u001b[0m",
      "\u001b[1;31mKeyError\u001b[0m: 0"
     ]
    }
   ],
   "source": [
    "d[0]"
   ]
  },
  {
   "cell_type": "code",
   "execution_count": 195,
   "id": "recorded-navigator",
   "metadata": {},
   "outputs": [
    {
     "data": {
      "text/plain": [
       "'Adhi'"
      ]
     },
     "execution_count": 195,
     "metadata": {},
     "output_type": "execute_result"
    }
   ],
   "source": [
    "# keying\n",
    "d['Name']"
   ]
  },
  {
   "cell_type": "code",
   "execution_count": 196,
   "id": "piano-buying",
   "metadata": {},
   "outputs": [
    {
     "data": {
      "text/plain": [
       "{'Name': 'Adhi', 'Phone': 9354328855, 52: 90}"
      ]
     },
     "execution_count": 196,
     "metadata": {},
     "output_type": "execute_result"
    }
   ],
   "source": [
    "d"
   ]
  },
  {
   "cell_type": "code",
   "execution_count": 197,
   "id": "violent-governor",
   "metadata": {},
   "outputs": [
    {
     "data": {
      "text/plain": [
       "90"
      ]
     },
     "execution_count": 197,
     "metadata": {},
     "output_type": "execute_result"
    }
   ],
   "source": [
    "d[52]"
   ]
  },
  {
   "cell_type": "code",
   "execution_count": 198,
   "id": "acting-transportation",
   "metadata": {},
   "outputs": [
    {
     "ename": "KeyError",
     "evalue": "90",
     "output_type": "error",
     "traceback": [
      "\u001b[1;31m---------------------------------------------------------------------------\u001b[0m",
      "\u001b[1;31mKeyError\u001b[0m                                  Traceback (most recent call last)",
      "\u001b[1;32m<ipython-input-198-7b2de1386f75>\u001b[0m in \u001b[0;36m<module>\u001b[1;34m\u001b[0m\n\u001b[1;32m----> 1\u001b[1;33m \u001b[0md\u001b[0m\u001b[1;33m[\u001b[0m\u001b[1;36m90\u001b[0m\u001b[1;33m]\u001b[0m\u001b[1;33m\u001b[0m\u001b[1;33m\u001b[0m\u001b[0m\n\u001b[0m",
      "\u001b[1;31mKeyError\u001b[0m: 90"
     ]
    }
   ],
   "source": [
    "d[90]"
   ]
  },
  {
   "cell_type": "code",
   "execution_count": 199,
   "id": "increasing-sight",
   "metadata": {},
   "outputs": [
    {
     "data": {
      "text/plain": [
       "90"
      ]
     },
     "execution_count": 199,
     "metadata": {},
     "output_type": "execute_result"
    }
   ],
   "source": [
    "d.get(52)      # d[52]"
   ]
  },
  {
   "cell_type": "code",
   "execution_count": 200,
   "id": "natural-extension",
   "metadata": {},
   "outputs": [
    {
     "name": "stdout",
     "output_type": "stream",
     "text": [
      "None\n"
     ]
    }
   ],
   "source": [
    "print(d.get(90))"
   ]
  },
  {
   "cell_type": "code",
   "execution_count": 201,
   "id": "alone-background",
   "metadata": {},
   "outputs": [
    {
     "data": {
      "text/plain": [
       "{'Name': 'Adhi', 'Phone': 9354328855, 52: 90}"
      ]
     },
     "execution_count": 201,
     "metadata": {},
     "output_type": "execute_result"
    }
   ],
   "source": [
    "d"
   ]
  },
  {
   "cell_type": "code",
   "execution_count": 203,
   "id": "arctic-industry",
   "metadata": {},
   "outputs": [
    {
     "data": {
      "text/plain": [
       "['Name', 'Phone', 52]"
      ]
     },
     "execution_count": 203,
     "metadata": {},
     "output_type": "execute_result"
    }
   ],
   "source": [
    "list(d.keys())"
   ]
  },
  {
   "cell_type": "code",
   "execution_count": 204,
   "id": "requested-future",
   "metadata": {},
   "outputs": [
    {
     "data": {
      "text/plain": [
       "dict_values(['Adhi', 9354328855, 90])"
      ]
     },
     "execution_count": 204,
     "metadata": {},
     "output_type": "execute_result"
    }
   ],
   "source": [
    "d.values()"
   ]
  },
  {
   "cell_type": "code",
   "execution_count": 205,
   "id": "dangerous-milwaukee",
   "metadata": {},
   "outputs": [
    {
     "data": {
      "text/plain": [
       "dict_items([('Name', 'Adhi'), ('Phone', 9354328855), (52, 90)])"
      ]
     },
     "execution_count": 205,
     "metadata": {},
     "output_type": "execute_result"
    }
   ],
   "source": [
    "d.items()"
   ]
  },
  {
   "cell_type": "code",
   "execution_count": 206,
   "id": "given-pillow",
   "metadata": {},
   "outputs": [
    {
     "data": {
      "text/plain": [
       "{'Name': 'Adhi', 'Phone': 9354328855, 52: 90}"
      ]
     },
     "execution_count": 206,
     "metadata": {},
     "output_type": "execute_result"
    }
   ],
   "source": [
    "d"
   ]
  },
  {
   "cell_type": "code",
   "execution_count": 207,
   "id": "placed-woman",
   "metadata": {},
   "outputs": [
    {
     "data": {
      "text/plain": [
       "'Adhi'"
      ]
     },
     "execution_count": 207,
     "metadata": {},
     "output_type": "execute_result"
    }
   ],
   "source": [
    "d['Name']"
   ]
  },
  {
   "cell_type": "code",
   "execution_count": 208,
   "id": "understood-reservoir",
   "metadata": {},
   "outputs": [],
   "source": [
    "d['Name'] = 'Aniket'"
   ]
  },
  {
   "cell_type": "code",
   "execution_count": 209,
   "id": "industrial-monroe",
   "metadata": {},
   "outputs": [
    {
     "data": {
      "text/plain": [
       "{'Name': 'Aniket', 'Phone': 9354328855, 52: 90}"
      ]
     },
     "execution_count": 209,
     "metadata": {},
     "output_type": "execute_result"
    }
   ],
   "source": [
    "d"
   ]
  },
  {
   "cell_type": "code",
   "execution_count": 210,
   "id": "whole-sellers",
   "metadata": {},
   "outputs": [],
   "source": [
    "d['Age'] = 78"
   ]
  },
  {
   "cell_type": "code",
   "execution_count": 211,
   "id": "rural-chess",
   "metadata": {},
   "outputs": [
    {
     "data": {
      "text/plain": [
       "{'Name': 'Aniket', 'Phone': 9354328855, 52: 90, 'Age': 78}"
      ]
     },
     "execution_count": 211,
     "metadata": {},
     "output_type": "execute_result"
    }
   ],
   "source": [
    "d"
   ]
  },
  {
   "cell_type": "code",
   "execution_count": 212,
   "id": "mature-arrival",
   "metadata": {},
   "outputs": [
    {
     "data": {
      "text/plain": [
       "{'Name': 'Anjali', 'Phone': 9354328855, 52: 90, 'Age': 78, 'City': 'Jaipur'}"
      ]
     },
     "execution_count": 212,
     "metadata": {},
     "output_type": "execute_result"
    }
   ],
   "source": [
    "d.update({'Name':'Anjali', 'City':'Jaipur'})\n",
    "d"
   ]
  },
  {
   "cell_type": "code",
   "execution_count": 214,
   "id": "interracial-haven",
   "metadata": {},
   "outputs": [
    {
     "data": {
      "text/plain": [
       "'Anjali'"
      ]
     },
     "execution_count": 214,
     "metadata": {},
     "output_type": "execute_result"
    }
   ],
   "source": [
    "d.setdefault('Name', 'Anmol')"
   ]
  },
  {
   "cell_type": "code",
   "execution_count": 215,
   "id": "alpha-accommodation",
   "metadata": {},
   "outputs": [
    {
     "data": {
      "text/plain": [
       "{'Name': 'Anjali', 'Phone': 9354328855, 52: 90, 'Age': 78, 'City': 'Jaipur'}"
      ]
     },
     "execution_count": 215,
     "metadata": {},
     "output_type": "execute_result"
    }
   ],
   "source": [
    "d"
   ]
  },
  {
   "cell_type": "code",
   "execution_count": 216,
   "id": "exact-milan",
   "metadata": {},
   "outputs": [
    {
     "data": {
      "text/plain": [
       "'Anmol'"
      ]
     },
     "execution_count": 216,
     "metadata": {},
     "output_type": "execute_result"
    }
   ],
   "source": [
    "d.setdefault('Person', 'Anmol')"
   ]
  },
  {
   "cell_type": "code",
   "execution_count": 217,
   "id": "continuing-notification",
   "metadata": {},
   "outputs": [
    {
     "data": {
      "text/plain": [
       "{'Name': 'Anjali',\n",
       " 'Phone': 9354328855,\n",
       " 52: 90,\n",
       " 'Age': 78,\n",
       " 'City': 'Jaipur',\n",
       " 'Person': 'Anmol'}"
      ]
     },
     "execution_count": 217,
     "metadata": {},
     "output_type": "execute_result"
    }
   ],
   "source": [
    "d"
   ]
  },
  {
   "cell_type": "code",
   "execution_count": 218,
   "id": "clear-cemetery",
   "metadata": {},
   "outputs": [],
   "source": [
    "d.setdefault('Weight')"
   ]
  },
  {
   "cell_type": "code",
   "execution_count": 219,
   "id": "classical-madonna",
   "metadata": {},
   "outputs": [
    {
     "data": {
      "text/plain": [
       "{'Name': 'Anjali',\n",
       " 'Phone': 9354328855,\n",
       " 52: 90,\n",
       " 'Age': 78,\n",
       " 'City': 'Jaipur',\n",
       " 'Person': 'Anmol',\n",
       " 'Weight': None}"
      ]
     },
     "execution_count": 219,
     "metadata": {},
     "output_type": "execute_result"
    }
   ],
   "source": [
    "d"
   ]
  },
  {
   "cell_type": "code",
   "execution_count": 221,
   "id": "lucky-accent",
   "metadata": {},
   "outputs": [
    {
     "ename": "TypeError",
     "evalue": "pop expected at least 1 argument, got 0",
     "output_type": "error",
     "traceback": [
      "\u001b[1;31m---------------------------------------------------------------------------\u001b[0m",
      "\u001b[1;31mTypeError\u001b[0m                                 Traceback (most recent call last)",
      "\u001b[1;32m<ipython-input-221-663961784a31>\u001b[0m in \u001b[0;36m<module>\u001b[1;34m\u001b[0m\n\u001b[1;32m----> 1\u001b[1;33m \u001b[0md\u001b[0m\u001b[1;33m.\u001b[0m\u001b[0mpop\u001b[0m\u001b[1;33m(\u001b[0m\u001b[1;33m)\u001b[0m\u001b[1;33m\u001b[0m\u001b[1;33m\u001b[0m\u001b[0m\n\u001b[0m",
      "\u001b[1;31mTypeError\u001b[0m: pop expected at least 1 argument, got 0"
     ]
    }
   ],
   "source": [
    "d.pop()"
   ]
  },
  {
   "cell_type": "code",
   "execution_count": 222,
   "id": "hollywood-making",
   "metadata": {},
   "outputs": [
    {
     "data": {
      "text/plain": [
       "90"
      ]
     },
     "execution_count": 222,
     "metadata": {},
     "output_type": "execute_result"
    }
   ],
   "source": [
    "d.pop(52)"
   ]
  },
  {
   "cell_type": "code",
   "execution_count": 223,
   "id": "involved-milwaukee",
   "metadata": {},
   "outputs": [
    {
     "data": {
      "text/plain": [
       "{'Name': 'Anjali',\n",
       " 'Phone': 9354328855,\n",
       " 'Age': 78,\n",
       " 'City': 'Jaipur',\n",
       " 'Person': 'Anmol',\n",
       " 'Weight': None}"
      ]
     },
     "execution_count": 223,
     "metadata": {},
     "output_type": "execute_result"
    }
   ],
   "source": [
    "d"
   ]
  },
  {
   "cell_type": "code",
   "execution_count": 225,
   "id": "ignored-settlement",
   "metadata": {},
   "outputs": [
    {
     "data": {
      "text/plain": [
       "('Weight', None)"
      ]
     },
     "execution_count": 225,
     "metadata": {},
     "output_type": "execute_result"
    }
   ],
   "source": [
    "d.popitem()"
   ]
  },
  {
   "cell_type": "code",
   "execution_count": 227,
   "id": "physical-layout",
   "metadata": {},
   "outputs": [
    {
     "data": {
      "text/plain": [
       "['hi', 5, 9, 'maybe', [2, 8], 2, 8, 'y', 'b']"
      ]
     },
     "execution_count": 227,
     "metadata": {},
     "output_type": "execute_result"
    }
   ],
   "source": [
    "l1"
   ]
  },
  {
   "cell_type": "code",
   "execution_count": 228,
   "id": "molecular-failing",
   "metadata": {},
   "outputs": [
    {
     "data": {
      "text/plain": [
       "'maybe'"
      ]
     },
     "execution_count": 228,
     "metadata": {},
     "output_type": "execute_result"
    }
   ],
   "source": [
    "l1[3]"
   ]
  },
  {
   "cell_type": "code",
   "execution_count": 229,
   "id": "forbidden-programmer",
   "metadata": {},
   "outputs": [],
   "source": [
    "del l1[3]"
   ]
  },
  {
   "cell_type": "code",
   "execution_count": 230,
   "id": "dangerous-township",
   "metadata": {},
   "outputs": [
    {
     "data": {
      "text/plain": [
       "['hi', 5, 9, [2, 8], 2, 8, 'y', 'b']"
      ]
     },
     "execution_count": 230,
     "metadata": {},
     "output_type": "execute_result"
    }
   ],
   "source": [
    "l1"
   ]
  },
  {
   "cell_type": "code",
   "execution_count": 231,
   "id": "productive-parish",
   "metadata": {},
   "outputs": [
    {
     "data": {
      "text/plain": [
       "{'Name': 'Anjali',\n",
       " 'Phone': 9354328855,\n",
       " 'Age': 78,\n",
       " 'City': 'Jaipur',\n",
       " 'Person': 'Anmol'}"
      ]
     },
     "execution_count": 231,
     "metadata": {},
     "output_type": "execute_result"
    }
   ],
   "source": [
    "d"
   ]
  },
  {
   "cell_type": "code",
   "execution_count": 232,
   "id": "soviet-advocacy",
   "metadata": {},
   "outputs": [],
   "source": [
    "del d['Age']"
   ]
  },
  {
   "cell_type": "code",
   "execution_count": 233,
   "id": "relative-elizabeth",
   "metadata": {},
   "outputs": [
    {
     "data": {
      "text/plain": [
       "{'Name': 'Anjali', 'Phone': 9354328855, 'City': 'Jaipur', 'Person': 'Anmol'}"
      ]
     },
     "execution_count": 233,
     "metadata": {},
     "output_type": "execute_result"
    }
   ],
   "source": [
    "d"
   ]
  },
  {
   "cell_type": "code",
   "execution_count": 234,
   "id": "virtual-swiss",
   "metadata": {},
   "outputs": [],
   "source": [
    "# WAP to convert two lists into a dictionary. Take the elements from first list as keys\n",
    "# and elements from second list as values.\n",
    "d = {}\n",
    "a = list('ABCD')\n",
    "b = list('abcd')"
   ]
  },
  {
   "cell_type": "code",
   "execution_count": 235,
   "id": "numerical-merit",
   "metadata": {},
   "outputs": [
    {
     "data": {
      "text/plain": [
       "['A', 'B', 'C', 'D']"
      ]
     },
     "execution_count": 235,
     "metadata": {},
     "output_type": "execute_result"
    }
   ],
   "source": [
    "a"
   ]
  },
  {
   "cell_type": "code",
   "execution_count": 236,
   "id": "designing-turtle",
   "metadata": {},
   "outputs": [
    {
     "data": {
      "text/plain": [
       "['a', 'b', 'c', 'd']"
      ]
     },
     "execution_count": 236,
     "metadata": {},
     "output_type": "execute_result"
    }
   ],
   "source": [
    "b"
   ]
  },
  {
   "cell_type": "code",
   "execution_count": 238,
   "id": "legendary-entity",
   "metadata": {},
   "outputs": [
    {
     "name": "stdout",
     "output_type": "stream",
     "text": [
      "{'A': 'a', 'B': 'b', 'C': 'c', 'D': 'd'}\n"
     ]
    }
   ],
   "source": [
    "if len(a) == len(b):\n",
    "    for i in range(len(a)):\n",
    "        d.update({a[i]:b[i]})\n",
    "else:\n",
    "    print('Operation not possible. Lists are of different length.')\n",
    "\n",
    "print(d)"
   ]
  },
  {
   "cell_type": "code",
   "execution_count": 239,
   "id": "returning-avenue",
   "metadata": {},
   "outputs": [
    {
     "data": {
      "text/plain": [
       "dict"
      ]
     },
     "execution_count": 239,
     "metadata": {},
     "output_type": "execute_result"
    }
   ],
   "source": [
    "type(d)"
   ]
  },
  {
   "cell_type": "markdown",
   "id": "fantastic-orchestra",
   "metadata": {},
   "source": [
    "### Methods on Set"
   ]
  },
  {
   "cell_type": "code",
   "execution_count": 240,
   "id": "general-engineer",
   "metadata": {},
   "outputs": [
    {
     "data": {
      "text/plain": [
       "{0, 1, 2, 3, 5, 6, 8}"
      ]
     },
     "execution_count": 240,
     "metadata": {},
     "output_type": "execute_result"
    }
   ],
   "source": [
    "se = {2,5,8,1,0,3,6,8,0,2,2}\n",
    "se"
   ]
  },
  {
   "cell_type": "code",
   "execution_count": 241,
   "id": "senior-convention",
   "metadata": {},
   "outputs": [],
   "source": [
    "# Set is a collection of heterogenous immutable data"
   ]
  },
  {
   "cell_type": "code",
   "execution_count": 242,
   "id": "protected-proposition",
   "metadata": {},
   "outputs": [],
   "source": [
    "se.add(9)"
   ]
  },
  {
   "cell_type": "code",
   "execution_count": 243,
   "id": "static-ozone",
   "metadata": {},
   "outputs": [
    {
     "data": {
      "text/plain": [
       "{0, 1, 2, 3, 5, 6, 8, 9}"
      ]
     },
     "execution_count": 243,
     "metadata": {},
     "output_type": "execute_result"
    }
   ],
   "source": [
    "se"
   ]
  },
  {
   "cell_type": "code",
   "execution_count": 244,
   "id": "colonial-value",
   "metadata": {},
   "outputs": [],
   "source": [
    "se.remove(3)"
   ]
  },
  {
   "cell_type": "code",
   "execution_count": 245,
   "id": "skilled-introduction",
   "metadata": {},
   "outputs": [
    {
     "data": {
      "text/plain": [
       "{0, 1, 2, 5, 6, 8, 9}"
      ]
     },
     "execution_count": 245,
     "metadata": {},
     "output_type": "execute_result"
    }
   ],
   "source": [
    "se"
   ]
  },
  {
   "cell_type": "code",
   "execution_count": 247,
   "id": "classical-joshua",
   "metadata": {},
   "outputs": [
    {
     "name": "stdout",
     "output_type": "stream",
     "text": [
      "None\n"
     ]
    }
   ],
   "source": [
    "print(se.discard(10))"
   ]
  },
  {
   "cell_type": "code",
   "execution_count": 248,
   "id": "mighty-projection",
   "metadata": {},
   "outputs": [
    {
     "ename": "KeyError",
     "evalue": "10",
     "output_type": "error",
     "traceback": [
      "\u001b[1;31m---------------------------------------------------------------------------\u001b[0m",
      "\u001b[1;31mKeyError\u001b[0m                                  Traceback (most recent call last)",
      "\u001b[1;32m<ipython-input-248-90e141ef8aef>\u001b[0m in \u001b[0;36m<module>\u001b[1;34m\u001b[0m\n\u001b[1;32m----> 1\u001b[1;33m \u001b[0mse\u001b[0m\u001b[1;33m.\u001b[0m\u001b[0mremove\u001b[0m\u001b[1;33m(\u001b[0m\u001b[1;36m10\u001b[0m\u001b[1;33m)\u001b[0m\u001b[1;33m\u001b[0m\u001b[1;33m\u001b[0m\u001b[0m\n\u001b[0m",
      "\u001b[1;31mKeyError\u001b[0m: 10"
     ]
    }
   ],
   "source": [
    "se.remove(10)"
   ]
  },
  {
   "cell_type": "code",
   "execution_count": 249,
   "id": "norman-vacation",
   "metadata": {},
   "outputs": [],
   "source": [
    "se.pop?"
   ]
  },
  {
   "cell_type": "code",
   "execution_count": 250,
   "id": "desperate-accessory",
   "metadata": {},
   "outputs": [
    {
     "data": {
      "text/plain": [
       "{0, 1, 2, 5, 6, 8, 9}"
      ]
     },
     "execution_count": 250,
     "metadata": {},
     "output_type": "execute_result"
    }
   ],
   "source": [
    "se"
   ]
  },
  {
   "cell_type": "code",
   "execution_count": 251,
   "id": "wooden-fundamental",
   "metadata": {},
   "outputs": [
    {
     "data": {
      "text/plain": [
       "0"
      ]
     },
     "execution_count": 251,
     "metadata": {},
     "output_type": "execute_result"
    }
   ],
   "source": [
    "se.pop()"
   ]
  },
  {
   "cell_type": "code",
   "execution_count": 252,
   "id": "restricted-dairy",
   "metadata": {},
   "outputs": [
    {
     "data": {
      "text/plain": [
       "1"
      ]
     },
     "execution_count": 252,
     "metadata": {},
     "output_type": "execute_result"
    }
   ],
   "source": [
    "se.pop()"
   ]
  },
  {
   "cell_type": "code",
   "execution_count": 253,
   "id": "appropriate-glasgow",
   "metadata": {},
   "outputs": [
    {
     "data": {
      "text/plain": [
       "{2, 5, 6, 8, 9}"
      ]
     },
     "execution_count": 253,
     "metadata": {},
     "output_type": "execute_result"
    }
   ],
   "source": [
    "se"
   ]
  },
  {
   "cell_type": "code",
   "execution_count": 255,
   "id": "otherwise-southwest",
   "metadata": {},
   "outputs": [],
   "source": [
    "se.pop?"
   ]
  },
  {
   "cell_type": "code",
   "execution_count": 256,
   "id": "lovely-memorabilia",
   "metadata": {},
   "outputs": [
    {
     "data": {
      "text/plain": [
       "{2, 5, 6, 8, 9}"
      ]
     },
     "execution_count": 256,
     "metadata": {},
     "output_type": "execute_result"
    }
   ],
   "source": [
    "se"
   ]
  },
  {
   "cell_type": "code",
   "execution_count": 257,
   "id": "solved-forestry",
   "metadata": {},
   "outputs": [
    {
     "data": {
      "text/plain": [
       "{2, 4, 6, 7}"
      ]
     },
     "execution_count": 257,
     "metadata": {},
     "output_type": "execute_result"
    }
   ],
   "source": [
    "se2 = {4, 7, 6, 2}\n",
    "se2"
   ]
  },
  {
   "cell_type": "code",
   "execution_count": 258,
   "id": "according-quick",
   "metadata": {},
   "outputs": [
    {
     "data": {
      "text/plain": [
       "{2, 6}"
      ]
     },
     "execution_count": 258,
     "metadata": {},
     "output_type": "execute_result"
    }
   ],
   "source": [
    "se & se2             # intersection    #se.intersection(se2)"
   ]
  },
  {
   "cell_type": "code",
   "execution_count": 259,
   "id": "respected-rwanda",
   "metadata": {},
   "outputs": [
    {
     "data": {
      "text/plain": [
       "{2, 4, 5, 6, 7, 8, 9}"
      ]
     },
     "execution_count": 259,
     "metadata": {},
     "output_type": "execute_result"
    }
   ],
   "source": [
    "se | se2             # union           # se.union(se2)"
   ]
  },
  {
   "cell_type": "code",
   "execution_count": 260,
   "id": "advanced-perspective",
   "metadata": {},
   "outputs": [
    {
     "data": {
      "text/plain": [
       "{5, 8, 9}"
      ]
     },
     "execution_count": 260,
     "metadata": {},
     "output_type": "execute_result"
    }
   ],
   "source": [
    "se - se2             # difference      # se.difference(se2)"
   ]
  },
  {
   "cell_type": "code",
   "execution_count": 261,
   "id": "foreign-bride",
   "metadata": {},
   "outputs": [
    {
     "data": {
      "text/plain": [
       "{4, 7}"
      ]
     },
     "execution_count": 261,
     "metadata": {},
     "output_type": "execute_result"
    }
   ],
   "source": [
    "se2 - se                               # se2.difference(se)"
   ]
  },
  {
   "cell_type": "markdown",
   "id": "demonstrated-purple",
   "metadata": {},
   "source": [
    "### List Comprehension in Python"
   ]
  },
  {
   "cell_type": "code",
   "execution_count": 275,
   "id": "important-intent",
   "metadata": {},
   "outputs": [
    {
     "data": {
      "text/plain": [
       "['hh', 'ee', 'll', 'll', 'oo']"
      ]
     },
     "execution_count": 275,
     "metadata": {},
     "output_type": "execute_result"
    }
   ],
   "source": [
    "s = 'hello'\n",
    "l = []\n",
    "for i in s:\n",
    "    l.append(i * 2)\n",
    "l"
   ]
  },
  {
   "cell_type": "code",
   "execution_count": 276,
   "id": "institutional-exhibition",
   "metadata": {},
   "outputs": [
    {
     "data": {
      "text/plain": [
       "['hh', 'ee', 'll', 'll', 'oo']"
      ]
     },
     "execution_count": 276,
     "metadata": {},
     "output_type": "execute_result"
    }
   ],
   "source": [
    "s = 'hello'\n",
    "l = [i * 2 for i in s]\n",
    "l"
   ]
  },
  {
   "cell_type": "code",
   "execution_count": 277,
   "id": "romance-solomon",
   "metadata": {},
   "outputs": [
    {
     "data": {
      "text/plain": [
       "[3, 4, 5, 6, 7, 8, 9, 10, 11, 12, 13, 14, 15, 16, 17]"
      ]
     },
     "execution_count": 277,
     "metadata": {},
     "output_type": "execute_result"
    }
   ],
   "source": [
    "l = list(range(3, 18))\n",
    "l"
   ]
  },
  {
   "cell_type": "code",
   "execution_count": 278,
   "id": "offensive-presentation",
   "metadata": {},
   "outputs": [
    {
     "data": {
      "text/plain": [
       "[9, 16, 25, 36, 49, 64, 81, 100, 121, 144, 169, 196, 225, 256, 289]"
      ]
     },
     "execution_count": 278,
     "metadata": {},
     "output_type": "execute_result"
    }
   ],
   "source": [
    "el = []\n",
    "for i in l:\n",
    "    el.append(i **2)\n",
    "el"
   ]
  },
  {
   "cell_type": "code",
   "execution_count": 279,
   "id": "corporate-essence",
   "metadata": {},
   "outputs": [
    {
     "data": {
      "text/plain": [
       "[9, 16, 25, 36, 49, 64, 81, 100, 121, 144, 169, 196, 225, 256, 289]"
      ]
     },
     "execution_count": 279,
     "metadata": {},
     "output_type": "execute_result"
    }
   ],
   "source": [
    "el = [i **2 for i in l]\n",
    "el"
   ]
  },
  {
   "cell_type": "code",
   "execution_count": 280,
   "id": "handy-ghana",
   "metadata": {},
   "outputs": [
    {
     "data": {
      "text/plain": [
       "[16, 36, 64, 100, 144, 196, 256]"
      ]
     },
     "execution_count": 280,
     "metadata": {},
     "output_type": "execute_result"
    }
   ],
   "source": [
    "el = []\n",
    "for i in l:\n",
    "    if i%2 == 0:\n",
    "        el.append(i **2)\n",
    "el"
   ]
  },
  {
   "cell_type": "code",
   "execution_count": 282,
   "id": "suitable-donor",
   "metadata": {},
   "outputs": [
    {
     "data": {
      "text/plain": [
       "[16, 36, 64, 100, 144, 196, 256]"
      ]
     },
     "execution_count": 282,
     "metadata": {},
     "output_type": "execute_result"
    }
   ],
   "source": [
    "el = [i **2 for i in l if i%2 == 0]\n",
    "el"
   ]
  },
  {
   "cell_type": "code",
   "execution_count": 284,
   "id": "bottom-webmaster",
   "metadata": {},
   "outputs": [
    {
     "data": {
      "text/plain": [
       "['O', 16, 'O', 36, 'O', 64, 'O', 100, 'O', 144, 'O', 196, 'O', 256, 'O']"
      ]
     },
     "execution_count": 284,
     "metadata": {},
     "output_type": "execute_result"
    }
   ],
   "source": [
    "el = []\n",
    "for i in l:\n",
    "    if i%2 == 0:\n",
    "        el.append(i **2)\n",
    "    else:\n",
    "        el.append('O')\n",
    "el"
   ]
  },
  {
   "cell_type": "code",
   "execution_count": 285,
   "id": "literary-dominant",
   "metadata": {},
   "outputs": [
    {
     "data": {
      "text/plain": [
       "['O', 16, 'O', 36, 'O', 64, 'O', 100, 'O', 144, 'O', 196, 'O', 256, 'O']"
      ]
     },
     "execution_count": 285,
     "metadata": {},
     "output_type": "execute_result"
    }
   ],
   "source": [
    "el = [i**2 if i%2 == 0 else 'O' for i in l]\n",
    "el"
   ]
  },
  {
   "cell_type": "code",
   "execution_count": null,
   "id": "rubber-visibility",
   "metadata": {},
   "outputs": [],
   "source": [
    "# Nested list comprehension"
   ]
  },
  {
   "cell_type": "code",
   "execution_count": 286,
   "id": "applied-studio",
   "metadata": {},
   "outputs": [
    {
     "data": {
      "text/plain": [
       "[[0, 1, 2, 3, 4], [0, 1, 2, 3, 4], [0, 1, 2, 3, 4]]"
      ]
     },
     "execution_count": 286,
     "metadata": {},
     "output_type": "execute_result"
    }
   ],
   "source": [
    "m = []\n",
    "for i in range(3):\n",
    "    m.append([])\n",
    "    for j in range(5):\n",
    "        m[i].append(j)\n",
    "        \n",
    "m"
   ]
  },
  {
   "cell_type": "code",
   "execution_count": 288,
   "id": "million-collapse",
   "metadata": {},
   "outputs": [
    {
     "data": {
      "text/plain": [
       "[[0, 1, 2, 3, 4], [0, 1, 2, 3, 4], [0, 1, 2, 3, 4]]"
      ]
     },
     "execution_count": 288,
     "metadata": {},
     "output_type": "execute_result"
    }
   ],
   "source": [
    "m = [[j for j in range(5)] for i in range(3)]\n",
    "m"
   ]
  },
  {
   "cell_type": "code",
   "execution_count": 290,
   "id": "seeing-tunisia",
   "metadata": {},
   "outputs": [
    {
     "name": "stdout",
     "output_type": "stream",
     "text": [
      "Enter start number: 8\n",
      "Enter end number: 22\n",
      "[64, 81, 100, 121, 144, 169, 196, 225, 256, 289, 324, 361, 400, 441, 484]\n"
     ]
    }
   ],
   "source": [
    "# WAP to create a list of squares of numbers in a range taken as input from the user.\n",
    "\n",
    "start = int(input(\"Enter start number: \"))\n",
    "end = int(input(\"Enter end number: \"))\n",
    "l = [i**2 for i in range(start,end+1)]\n",
    "print(l)"
   ]
  },
  {
   "cell_type": "code",
   "execution_count": 292,
   "id": "freelance-height",
   "metadata": {},
   "outputs": [
    {
     "name": "stdout",
     "output_type": "stream",
     "text": [
      "Enter a string = aEo\n",
      "All characters are Vowel= yes\n"
     ]
    }
   ],
   "source": [
    "s1 = input('Enter a string = ')\n",
    "l2 = list('aeiouAEIOU')\n",
    "for i in s1:\n",
    "    if i not in l2:\n",
    "        print('All characters are not vowel')\n",
    "        break\n",
    "else:\n",
    "    print('All characters are Vowels')"
   ]
  },
  {
   "cell_type": "code",
   "execution_count": null,
   "id": "secret-salem",
   "metadata": {},
   "outputs": [],
   "source": []
  }
 ],
 "metadata": {
  "kernelspec": {
   "display_name": "Python 3",
   "language": "python",
   "name": "python3"
  },
  "language_info": {
   "codemirror_mode": {
    "name": "ipython",
    "version": 3
   },
   "file_extension": ".py",
   "mimetype": "text/x-python",
   "name": "python",
   "nbconvert_exporter": "python",
   "pygments_lexer": "ipython3",
   "version": "3.9.1"
  }
 },
 "nbformat": 4,
 "nbformat_minor": 5
}
